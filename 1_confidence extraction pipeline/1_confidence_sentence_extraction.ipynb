{
 "cells": [
  {
   "cell_type": "code",
   "execution_count": null,
   "metadata": {},
   "outputs": [],
   "source": [
    "import pandas as pd\n",
    "import re\n",
    "import spacy\n",
    "import json\n",
    "\n",
    "# the path to the excel file, please request for this dataset if you want to use this code\n",
    "file_path = 'E1_Bestprompt_2022_all_Final_E2_manualevaluatedcompleted_Final_E2.xlsx'"
   ]
  },
  {
   "cell_type": "code",
   "execution_count": null,
   "metadata": {},
   "outputs": [],
   "source": [
    "nlp = spacy.load(\"en_core_web_sm\")\n",
    "df = pd.read_excel(file_path)"
   ]
  },
  {
   "cell_type": "code",
   "execution_count": null,
   "metadata": {},
   "outputs": [],
   "source": [
    "# different models had different output formats so we need to batch import the ones that has the same output format and the n extract the confidence score from the output\n",
    "lss = ['gemma2-9b-it_rawoutput','Gemma2-9b-Q8_rawoutput','Mistral-7B-T_rawoutput','Llama-2-13b_rawoutput','Phi3-medium14b-Q6_rawoutput','Llama3.1-405B_rawoutput','Llama3.1-70B_rawoutput','Llama3.1-8B_rawoutput','gemma2-27b-it_rawoutput']\n",
    "lss_no = [s.replace('_rawoutput', '_confidence-sen') for s in lss]\n",
    "lss_confidence_number = [s.replace('_rawoutput', '_confidence-num') for s in lss]"
   ]
  },
  {
   "cell_type": "code",
   "execution_count": null,
   "metadata": {},
   "outputs": [],
   "source": [
    "def get_confidence(text):\n",
    "    if type(text) == str:\n",
    "        mamad = []\n",
    "        text =text.replace(\"\\n\", \" \")\n",
    "        # Create a Doc object\n",
    "        doc = nlp(text)\n",
    "        \n",
    "        # Store the confidence score in an attribute\n",
    "        for sent in doc.sents:\n",
    "            if 'confidence' in sent.text.lower():\n",
    "                mamad.append(sent.text)\n",
    "        for sent in doc.sents:\n",
    "            if 'confident' in sent.text.lower():\n",
    "                    mamad.append(sent.text)\n",
    "        return \" \".join(mamad)\n",
    "    return None\n",
    "\n",
    "def extract_quote_2(text):\n",
    "    try: \n",
    "        if 'arguments=\"' in text:\n",
    "            pattern = r'arguments=\"(.*?)\"'\n",
    "        elif \"arguments='\" in text:\n",
    "            pattern = r\"arguments='((?:[^'\\\\]|\\\\.)*)'\"\n",
    "\n",
    "        # Find the match in the text\n",
    "        match = re.search(pattern, text, re.DOTALL)\n",
    "    except:\n",
    "        return None\n",
    "# Extract the content if a match is found\n",
    "    if match:\n",
    "        content = match.group(1)\n",
    "        return content\n",
    "    return None\n",
    "\n",
    "def extract_quote_3(text):\n",
    "    try: \n",
    "        if 'text=\"' in text:\n",
    "            pattern = r'text=\"(.*?)\"'\n",
    "        elif \"text='\" in text:\n",
    "            pattern = r\"text='((?:[^'\\\\]|\\\\.)*)'\"\n",
    "\n",
    "        # Find the match in the text\n",
    "        match = re.search(pattern, text, re.DOTALL)\n",
    "    except:\n",
    "        return None\n",
    "# Extract the content if a match is found\n",
    "    if match:\n",
    "        content = match.group(1)\n",
    "        return content\n",
    "    return None"
   ]
  },
  {
   "cell_type": "code",
   "execution_count": null,
   "metadata": {},
   "outputs": [],
   "source": [
    "new_df = pd.DataFrame()"
   ]
  },
  {
   "cell_type": "markdown",
   "metadata": {},
   "source": [
    "# pipline for plain text confidence sentence extraction"
   ]
  },
  {
   "cell_type": "code",
   "execution_count": null,
   "metadata": {},
   "outputs": [],
   "source": [
    "for i in range(len(lss)):\n",
    "    for index, row in df.iterrows():\n",
    "        item = row[lss[i]]\n",
    "        new_df.loc[index,lss[i]] = item\n",
    "        sen = get_confidence(item)\n",
    "        new_df.loc[index,lss_no[i]] = sen\n",
    "        new_df.loc[index,lss_confidence_number[i]] = None\n",
    "        print(\"sentence number {}: {}\".format(index+1,sen))\n",
    "        print(\"\\n\")"
   ]
  },
  {
   "cell_type": "markdown",
   "metadata": {},
   "source": [
    "# pipline for structred ouput form confidence sentence extraction"
   ]
  },
  {
   "cell_type": "code",
   "execution_count": null,
   "metadata": {},
   "outputs": [],
   "source": [
    "for i in range(1,2):\n",
    "    for index, row in df.iterrows():\n",
    "        item = row[lss[i]]\n",
    "        cleaned_text = extract_quote_2(item)\n",
    "        new_df.loc[index,lss[i]] = cleaned_text\n",
    "        sen = get_confidence(cleaned_text)\n",
    "        new_df.loc[index,lss_no[i]] = sen\n",
    "        new_df.loc[index,lss_confidence_number[i]] = None\n",
    "        print(\"sentence number {}: {}\".format(index+1,sen))\n",
    "        print(\"\\n\")"
   ]
  },
  {
   "cell_type": "code",
   "execution_count": null,
   "metadata": {},
   "outputs": [],
   "source": [
    "new_df.to_csv('completed.csv')"
   ]
  }
 ],
 "metadata": {
  "language_info": {
   "name": "python"
  }
 },
 "nbformat": 4,
 "nbformat_minor": 2
}
