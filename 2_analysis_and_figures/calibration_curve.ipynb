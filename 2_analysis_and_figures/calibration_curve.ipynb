{
 "cells": [
  {
   "cell_type": "code",
   "execution_count": 2,
   "metadata": {},
   "outputs": [],
   "source": [
    "import pandas as pd\n",
    "import numpy as np\n",
    "import matplotlib.pyplot as plt\n",
    "from sklearn.calibration import calibration_curve\n",
    "import os\n",
    "import re"
   ]
  },
  {
   "cell_type": "code",
   "execution_count": 11,
   "metadata": {},
   "outputs": [
    {
     "name": "stderr",
     "output_type": "stream",
     "text": [
      "<>:1: SyntaxWarning: invalid escape sequence '\\m'\n",
      "<>:1: SyntaxWarning: invalid escape sequence '\\m'\n",
      "C:\\Users\\Rayan\\AppData\\Local\\Temp\\ipykernel_6120\\2913818909.py:1: SyntaxWarning: invalid escape sequence '\\m'\n",
      "  data = pd.read_csv('CSV\\merged_confidence_correctness.csv')\n"
     ]
    }
   ],
   "source": [
    "data = pd.read_csv('CSV\\merged_confidence_correctness.csv')\n",
    "# Create a folder to save the plots\n",
    "output_folder = '_final_calibration_curves'\n",
    "os.makedirs(output_folder, exist_ok=True)"
   ]
  },
  {
   "cell_type": "code",
   "execution_count": 16,
   "metadata": {},
   "outputs": [],
   "source": [
    "def process_model(model_name, confidence_col, correctness_col):\n",
    "    confidence = data[confidence_col].replace(['not_mentioned', 'cell_empty', 'NoA', 'NOP', 'EOP'], np.nan).astype(float)\n",
    "    \n",
    "    # Handle mixed data types in correctness column\n",
    "    def parse_correctness(x):\n",
    "        if isinstance(x, str):\n",
    "            return 1 if x.lower() == 'correct' else 0\n",
    "        elif isinstance(x, (int, float)):\n",
    "            return 1 if x == 1 else 0\n",
    "        else:\n",
    "            return np.nan\n",
    "\n",
    "    correctness = data[correctness_col].apply(parse_correctness)\n",
    "    \n",
    "    # Remove rows with NaN values\n",
    "    mask = ~(np.isnan(confidence) | np.isnan(correctness))\n",
    "    confidence = confidence[mask]\n",
    "    correctness = correctness[mask]\n",
    "    \n",
    "    # Normalize confidence to [0, 1] range if it's not already\n",
    "    if confidence.max() > 1:\n",
    "        confidence = confidence / 10\n",
    "    \n",
    "    # Calculate calibration curve\n",
    "    prob_true, prob_pred = calibration_curve(correctness, confidence, n_bins=25, strategy='quantile')\n",
    "    \n",
    "    # Plot the calibration curve\n",
    "    plt.figure(figsize=(10, 6))\n",
    "    plt.plot([0, 1], [0, 1], linestyle='--', label='Perfectly calibrated')\n",
    "    plt.plot(prob_pred, prob_true, marker='o', label=model_name)\n",
    "    \n",
    "    plt.xlabel('Mean predicted probability')\n",
    "    plt.ylabel('Fraction of positives')\n",
    "    plt.title(f'Calibration Curve for {model_name}')\n",
    "    plt.legend()\n",
    "    plt.grid(True)\n",
    "    \n",
    "    # Save the plot\n",
    "    plt.savefig(os.path.join(output_folder, f'{model_name}_calibration_curve.png'))\n",
    "    plt.close()\n",
    "\n",
    "# Function to find matching columns case-insensitively\n",
    "def find_matching_columns(pattern, columns):\n",
    "    return [col for col in columns if re.match(pattern, col, re.IGNORECASE)]"
   ]
  },
  {
   "cell_type": "code",
   "execution_count": 17,
   "metadata": {},
   "outputs": [
    {
     "name": "stdout",
     "output_type": "stream",
     "text": [
      "Calibration curves have been saved in the '_final_calibration_curves' folder.\n"
     ]
    }
   ],
   "source": [
    "# Get all model names (assuming they follow the pattern: modelname_confidence, modelname_correctness)\n",
    "confidence_columns = find_matching_columns(r'.*_confidence$', data.columns)\n",
    "model_names = [re.sub(r'_confidence$', '', col, flags=re.IGNORECASE) for col in confidence_columns]\n",
    "\n",
    "# Process each model\n",
    "for model in model_names:\n",
    "    confidence_col = find_matching_columns(f'{model}_confidence$', data.columns)[0]\n",
    "    correctness_col = find_matching_columns(f'{model}_correctness$', data.columns)[0]\n",
    "    process_model(model, confidence_col, correctness_col)\n",
    "\n",
    "print(f\"Calibration curves have been saved in the '{output_folder}' folder.\")"
   ]
  },
  {
   "cell_type": "code",
   "execution_count": null,
   "metadata": {},
   "outputs": [],
   "source": []
  }
 ],
 "metadata": {
  "kernelspec": {
   "display_name": "base",
   "language": "python",
   "name": "python3"
  },
  "language_info": {
   "codemirror_mode": {
    "name": "ipython",
    "version": 3
   },
   "file_extension": ".py",
   "mimetype": "text/x-python",
   "name": "python",
   "nbconvert_exporter": "python",
   "pygments_lexer": "ipython3",
   "version": "3.12.3"
  }
 },
 "nbformat": 4,
 "nbformat_minor": 2
}
